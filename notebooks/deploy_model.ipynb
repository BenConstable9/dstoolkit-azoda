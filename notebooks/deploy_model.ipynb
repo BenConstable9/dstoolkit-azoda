{
 "cells": [
  {
   "cell_type": "markdown",
   "source": [
    "# Deploy Detection Model\r\n",
    "\r\n",
    "This notebook provides a basic introduction to deploying a trained model as either an ACI or AKS webservice with AML leveraging the azure_utils and tfod_utils packages in this repo.\r\n",
    "\r\n",
    "Before executing the code please ensure you have a completed experiement with a trained model using either the scripts in src or the train model notebooks.\r\n",
    "\r\n",
    "Note that this notebook makes use of additional files in this repo:\r\n",
    "- utils - contains mapping functions for the classes that are needed for the deployment image\r\n",
    "- conda_env.yml - contains the environment and packages required\r\n",
    "- score.py - the base scoring file that is used to created the model_score.py used int he dpeloyment"
   ],
   "metadata": {}
  },
  {
   "cell_type": "code",
   "execution_count": null,
   "source": [
    "import os\r\n",
    "import sys\r\n",
    "\r\n",
    "from azure_utils.azure import load_config\r\n",
    "from azure_utils.deployment import AMLDeploy\r\n"
   ],
   "outputs": [],
   "metadata": {}
  },
  {
   "cell_type": "markdown",
   "source": [
    "## 1. Define Run Paramters"
   ],
   "metadata": {}
  },
  {
   "cell_type": "code",
   "execution_count": null,
   "source": [
    "# Run params    \r\n",
    "ENV_CONFIG_FILE = \"dev_config.json\"\r\n",
    "EXPERIMENT = \"pothole\"\r\n",
    "RUN_ID = \"pothole_1629819580_7ce6a2e8\"\r\n",
    "IMAGE_TYPE = \"testpotholeservice\"\r\n",
    "COMPUTE_TARGET_NAME = \"testdeployment\"\r\n",
    "MODEL_NAME = \"testpotholeservice\"\r\n",
    "WEBSERVICE_NAME = MODEL_NAME.lower().replace(\"_\", '')\r\n",
    "\r\n"
   ],
   "outputs": [],
   "metadata": {}
  },
  {
   "cell_type": "markdown",
   "source": [
    "## 2. Initialise Deployment Class"
   ],
   "metadata": {}
  },
  {
   "cell_type": "code",
   "execution_count": null,
   "source": [
    "deployment = AMLDeploy(RUN_ID,\r\n",
    "                       EXPERIMENT,\r\n",
    "                       WEBSERVICE_NAME,\r\n",
    "                       MODEL_NAME,\r\n",
    "                       IMAGE_TYPE,\r\n",
    "                       config_file=ENV_CONFIG_FILE)"
   ],
   "outputs": [],
   "metadata": {}
  },
  {
   "cell_type": "markdown",
   "source": [
    "## 3. Register Model from Experiment"
   ],
   "metadata": {}
  },
  {
   "cell_type": "code",
   "execution_count": null,
   "source": [
    "model = deployment.register_run_model()"
   ],
   "outputs": [],
   "metadata": {}
  },
  {
   "cell_type": "markdown",
   "source": [
    "## 4. Set Scoring Script\r\n",
    "\r\n",
    "The base score file is avliable in the src dir, variation can be created as needed. At deployment model name will be updated to create the final deploy script.\r\n",
    "\r\n",
    "We also set the src dir to the deployment src folder so that at deployment we can access the utils"
   ],
   "metadata": {}
  },
  {
   "cell_type": "code",
   "execution_count": null,
   "source": [
    "src_dir = os.path.join('..', 'src', 'deployment')\r\n",
    "score_file = os.path.join(src_dir, 'score_tf2.py')\r\n",
    "env_file = './conda_env_tf2.yml'"
   ],
   "outputs": [],
   "metadata": {}
  },
  {
   "cell_type": "markdown",
   "source": [
    "## 5. Create Inference Config"
   ],
   "metadata": {}
  },
  {
   "cell_type": "code",
   "execution_count": null,
   "source": [
    "inference_config = deployment.create_inference_config(score_file, src_dir, env_file)"
   ],
   "outputs": [],
   "metadata": {}
  },
  {
   "cell_type": "markdown",
   "source": [
    "## 6. Check is a webservice exists with same name\r\n",
    "\r\n",
    "Checks if there is a webservice with the same name. If it returns true you can either skip the next two cells and update that service or change the service name to deploy a new webservice."
   ],
   "metadata": {}
  },
  {
   "cell_type": "code",
   "execution_count": null,
   "source": [
    "deployment.webservice_exists(deployment.webservice_name)"
   ],
   "outputs": [],
   "metadata": {}
  },
  {
   "cell_type": "markdown",
   "source": [
    "## 6. Deploy ACI\r\n",
    "\r\n",
    "Deploy the model to an ACI endpoint, this will be targeting a CPU instance and not GPU and is used just for testing purposes."
   ],
   "metadata": {}
  },
  {
   "cell_type": "code",
   "execution_count": null,
   "source": [
    "target, config = deployment.create_aci()\r\n",
    "\r\n",
    "deployment.deploy_new_webservice(model,\r\n",
    "                                 inference_config,\r\n",
    "                                 config,\r\n",
    "                                 target)"
   ],
   "outputs": [],
   "metadata": {}
  },
  {
   "cell_type": "markdown",
   "source": [
    "## 7. Deploy AKS"
   ],
   "metadata": {}
  },
  {
   "cell_type": "code",
   "execution_count": null,
   "source": [
    "deployment.webservice_name = deployment.webservice_name + \"-aks\"\r\n",
    "\r\n",
    "target, config = deployment.create_aks(COMPUTE_TARGET_NAME, exists=False)\r\n",
    "\r\n",
    "deployment.deploy_new_webservice(model,\r\n",
    "                                 inference_config,\r\n",
    "                                 config,\r\n",
    "                                 target)"
   ],
   "outputs": [],
   "metadata": {}
  },
  {
   "cell_type": "markdown",
   "source": [
    "## 8. Update Existing Webservice"
   ],
   "metadata": {}
  },
  {
   "cell_type": "code",
   "execution_count": null,
   "source": [
    "deployment.update_existing_webservice(model, inference_config)"
   ],
   "outputs": [],
   "metadata": {}
  }
 ],
 "metadata": {
  "interpreter": {
   "hash": "45959e7699af6de0f180a988fb12417ed6a3fc23822abbd1741e1ffb35b1ce05"
  },
  "kernelspec": {
   "name": "python3",
   "display_name": "Python 3.7.10 64-bit ('csad_clean': conda)"
  },
  "language_info": {
   "name": "python",
   "version": "3.7.10",
   "mimetype": "text/x-python",
   "codemirror_mode": {
    "name": "ipython",
    "version": 3
   },
   "pygments_lexer": "ipython3",
   "nbconvert_exporter": "python",
   "file_extension": ".py"
  },
  "orig_nbformat": 2
 },
 "nbformat": 4,
 "nbformat_minor": 2
}