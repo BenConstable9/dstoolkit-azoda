{
 "cells": [
  {
   "cell_type": "markdown",
   "source": [
    "# Demo - Deployment Test\n",
    "\n",
    "The following notebook allows us to manually test a model deployment endpoint with a test image and visulaise the result"
   ],
   "metadata": {}
  },
  {
   "cell_type": "markdown",
   "source": [
    "## Set Model Endpoint \n",
    "Choose which endpoint that will be tested"
   ],
   "metadata": {}
  },
  {
   "cell_type": "markdown",
   "source": [
    "### Define Endpoint\r\n",
    "Set the AML endpoint to test"
   ],
   "metadata": {}
  },
  {
   "cell_type": "code",
   "execution_count": null,
   "source": [
    "# endpoint url is found in the AML studio. You must append the probaility argument in the form url/score?prob=0.5\r\n",
    "endpoint = ''\r\n",
    "\r\n",
    "enable_auth = True\r\n",
    "auth = ''\r\n",
    "\r\n",
    "# Test image path\r\n",
    "test_img = f'./test_image.jpg'"
   ],
   "outputs": [],
   "metadata": {}
  },
  {
   "cell_type": "markdown",
   "source": [
    "## Load Image"
   ],
   "metadata": {}
  },
  {
   "cell_type": "code",
   "execution_count": null,
   "source": [
    "img = open(test_img, 'rb').read()"
   ],
   "outputs": [],
   "metadata": {}
  },
  {
   "cell_type": "markdown",
   "source": [
    "## Score Image"
   ],
   "metadata": {}
  },
  {
   "cell_type": "code",
   "execution_count": null,
   "source": [
    "# Call the endpoint\r\n",
    "import requests\r\n",
    "import json\r\n",
    "\r\n",
    "headers = { 'Content-Type':'application/json' }\r\n",
    "\r\n",
    "if enable_auth:\r\n",
    "    headers['Authorization']=f'Bearer {auth}'\r\n",
    "\r\n",
    "resp = requests.post(endpoint, img, headers=headers)\r\n",
    "print(resp)\r\n",
    "results = resp.text\r\n",
    "print(results)"
   ],
   "outputs": [],
   "metadata": {}
  },
  {
   "cell_type": "markdown",
   "source": [
    "## Present Results"
   ],
   "metadata": {}
  },
  {
   "cell_type": "code",
   "execution_count": null,
   "source": [
    "%matplotlib inline\r\n",
    "import matplotlib.pyplot as plt\r\n",
    "import matplotlib.image as mpimg\r\n",
    "import matplotlib.patches as patches\r\n",
    "from PIL import Image\r\n",
    "import numpy as np"
   ],
   "outputs": [],
   "metadata": {}
  },
  {
   "cell_type": "code",
   "execution_count": null,
   "source": [
    "img_np=mpimg.imread(test_img)\r\n",
    "img = Image.fromarray(img_np.astype('uint8'),'RGB')\r\n",
    "x, y = img.size\r\n",
    "IMAGE_SIZE = (x/50,y/50)\r\n",
    "plt.figure(figsize=IMAGE_SIZE)"
   ],
   "outputs": [],
   "metadata": {}
  },
  {
   "cell_type": "markdown",
   "source": [
    "### Plot Result"
   ],
   "metadata": {}
  },
  {
   "cell_type": "code",
   "execution_count": null,
   "source": [
    "fig,ax = plt.subplots(1)\r\n",
    "# Display the image\r\n",
    "ax.imshow(img_np)\r\n",
    "\r\n",
    "# draw box and label for each detection \r\n",
    "detections = json.loads(results)\r\n",
    "for detect in detections:\r\n",
    "    label = detect['label']\r\n",
    "    box = detect['bounding_box']\r\n",
    "    ymin, xmin, ymax, xmax = box[0], box[1], box[2], box[3]\r\n",
    "    topleft_x, topleft_y = x * xmin, y * ymin\r\n",
    "    width, height = x * (xmax - xmin), y * (ymax - ymin)\r\n",
    "    print('{}: {}, {}, {}, {}'.format(detect['label'], topleft_x, topleft_y, width, height))\r\n",
    "\r\n",
    "    color = 'white'\r\n",
    "    rect = patches.Rectangle((topleft_x, topleft_y), width, height, \r\n",
    "                             linewidth=2, edgecolor=color,facecolor='none')\r\n",
    "\r\n",
    "    ax.add_patch(rect)\r\n",
    "    plt.text(topleft_x, topleft_y, label, color=color)\r\n",
    "\r\n",
    "plt.show()"
   ],
   "outputs": [],
   "metadata": {
    "scrolled": true
   }
  }
 ],
 "metadata": {
  "kernelspec": {
   "name": "python3",
   "display_name": "Python 3.7.10 64-bit ('csad_clean': conda)"
  },
  "language_info": {
   "codemirror_mode": {
    "name": "ipython",
    "version": 3
   },
   "file_extension": ".py",
   "mimetype": "text/x-python",
   "name": "python",
   "nbconvert_exporter": "python",
   "pygments_lexer": "ipython3",
   "version": "3.7.10"
  },
  "interpreter": {
   "hash": "45959e7699af6de0f180a988fb12417ed6a3fc23822abbd1741e1ffb35b1ce05"
  }
 },
 "nbformat": 4,
 "nbformat_minor": 2
}